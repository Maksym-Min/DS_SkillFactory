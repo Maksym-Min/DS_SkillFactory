{
 "cells": [
  {
   "cell_type": "code",
   "execution_count": 3,
   "metadata": {},
   "outputs": [],
   "source": [
    "import numpy as np\n",
    "\n",
    "\n",
    "def random_predict(number: int = 1) -> int:\n",
    "    \"\"\"рандомно угадываем число\n",
    "    argЖnumber -  загаданное число, по умодчанию 1\n",
    "    return:\n",
    "        int число попыток\n",
    "    \"\"\"\n",
    "    count = 0\n",
    "    while True:\n",
    "        count += 1\n",
    "        predict_number = np.random.randint(1, 101)  # предпологаемо число\n",
    "        if number == predict_number:\n",
    "            break  # выход из цикла, если угадали\n",
    "    return (count)\n",
    "    print(f' Количество попыток: {random_predict()}')\n",
    "\n",
    "\n",
    "def score_game(random_predict) -> int:\n",
    "    \"\"\" за кокае количество попыток в среднем из 1000 проходов\n",
    "    угадывает наш алгоритм\n",
    "\n",
    "    arg:\n",
    "    random_predic([type]): функция угадывания\n",
    "    return:\n",
    "    int: среднее число попыток\"\"\"\n",
    "    count_ls = []\n",
    "    np.random.seed(1)  # фиксируем сид для воспроизводительности\n",
    "    random_array = np.random.randint(1, 101, size=(1000))  # pfuflfkb список чисел\n",
    "    for number in random_array:\n",
    "        count_ls.append(random_predict(number))\n",
    "    score = int(np.mean(count_ls))  # находит среднее число\n",
    "    print(f' ваш алгоритм угадывает число в среднем за :{score} попыток')\n",
    "    return (score)\n",
    "\n",
    "if __name__ in '_main_':\n",
    "    # run\n",
    "    score_game(random_predict)"
   ]
  },
  {
   "cell_type": "code",
   "execution_count": 2,
   "metadata": {},
   "outputs": [
    {
     "name": "stdout",
     "output_type": "stream",
     "text": [
      " ваш алгоритм угадывает число в среднем за :101 попыток\n"
     ]
    },
    {
     "data": {
      "text/plain": [
       "101"
      ]
     },
     "execution_count": 2,
     "metadata": {},
     "output_type": "execute_result"
    }
   ],
   "source": [
    "score_game(random_predict)"
   ]
  }
 ],
 "metadata": {
  "kernelspec": {
   "display_name": "Python 3",
   "language": "python",
   "name": "python3"
  },
  "language_info": {
   "codemirror_mode": {
    "name": "ipython",
    "version": 3
   },
   "file_extension": ".py",
   "mimetype": "text/x-python",
   "name": "python",
   "nbconvert_exporter": "python",
   "pygments_lexer": "ipython3",
   "version": "3.9.10"
  },
  "orig_nbformat": 4,
  "vscode": {
   "interpreter": {
    "hash": "bd6e9504565d213914c7dacbd1058ce47ab27179646287d87b002e18d2a2a2f2"
   }
  }
 },
 "nbformat": 4,
 "nbformat_minor": 2
}
